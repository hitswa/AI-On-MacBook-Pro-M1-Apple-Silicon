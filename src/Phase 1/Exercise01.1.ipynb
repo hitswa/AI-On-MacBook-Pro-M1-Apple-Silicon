{
 "cells": [
  {
   "cell_type": "markdown",
   "metadata": {},
   "source": [
    "# 🔹 Exercise 1: Implement a Single Neuron in Python (Without TensorFlow or PyTorch)\n",
    "\n",
    "We will implement a single artificial neuron using only NumPy. This will help you understand key concepts like weights, bias, activation functions, and forward propagation.\n",
    "\n",
    "## 📌 Steps:\n",
    "\n",
    "- Initialize Weights & Bias\n",
    "    - Randomly initialize a weight (`w`) and bias (`b`).\n",
    "- Define Activation Function\n",
    "    - Use Sigmoid activation function:\n",
    "        𝜎(x) = 1 / (1 + e^-x)\n",
    "- Forward Propagation\n",
    "    - Compute output:\n",
    "        𝑦 = 𝜎( 𝑤 ⋅ 𝑥 + 𝑏 )\n",
    "- Test the Neuron\n",
    "    - Run the neuron on some sample input data."
   ]
  },
  {
   "cell_type": "code",
   "execution_count": 1,
   "metadata": {},
   "outputs": [
    {
     "name": "stdout",
     "output_type": "stream",
     "text": [
      "Neuron Output: [0.3096612]\n"
     ]
    }
   ],
   "source": [
    "import numpy as np\n",
    "\n",
    "class Neuron:\n",
    "    def __init__(self, input_size):\n",
    "        \"\"\"\n",
    "        Initialize weights and bias randomly.\n",
    "        \"\"\"\n",
    "        self.weights = np.random.randn(input_size)  # Random weights\n",
    "        self.bias = np.random.randn(1)  # Random bias\n",
    "    \n",
    "    def sigmoid(self, x):\n",
    "        \"\"\"\n",
    "        Sigmoid activation function.\n",
    "        \"\"\"\n",
    "        return 1 / (1 + np.exp(-x))\n",
    "\n",
    "    def forward(self, inputs):\n",
    "        \"\"\"\n",
    "        Forward pass: Compute weighted sum and apply activation.\n",
    "        \"\"\"\n",
    "        weighted_sum = np.dot(self.weights, inputs) + self.bias\n",
    "        return self.sigmoid(weighted_sum)\n",
    "\n",
    "# Example usage\n",
    "inputs = np.array([0.5, -0.2, 0.1])\n",
    "neuron = Neuron(input_size=3)\n",
    "output = neuron.forward(inputs)\n",
    "print(\"Neuron Output:\", output)\n"
   ]
  },
  {
   "cell_type": "markdown",
   "metadata": {},
   "source": [
    "OR"
   ]
  },
  {
   "cell_type": "code",
   "execution_count": 3,
   "metadata": {},
   "outputs": [
    {
     "name": "stdout",
     "output_type": "stream",
     "text": [
      "Neuron Outputs: [0.3750494637135284, 0.5227549929388752, 0.6665851464380592, 0.7849041448216916, 0.8694580332696829]\n"
     ]
    }
   ],
   "source": [
    "import numpy as np\n",
    "\n",
    "# Step 1: Initialize weights and bias\n",
    "w = np.random.randn()  # Random weight\n",
    "b = np.random.randn()  # Random bias\n",
    "\n",
    "# Step 2: Define Sigmoid activation function\n",
    "def sigmoid(x):\n",
    "    return 1 / (1 + np.exp(-x))\n",
    "\n",
    "# Step 3: Define forward propagation\n",
    "def neuron(x):\n",
    "    z = w * x + b  # Linear transformation\n",
    "    return sigmoid(z)  # Activation function\n",
    "\n",
    "# Step 4: Test with input values\n",
    "x_values = np.array([-2, -1, 0, 1, 2])  # Some sample inputs\n",
    "output = [neuron(x) for x in x_values]\n",
    "\n",
    "print(\"Neuron Outputs:\", output)\n"
   ]
  },
  {
   "cell_type": "markdown",
   "metadata": {},
   "source": [
    "## ✅ Expected Learning Outcomes\n",
    "\n",
    "- ✔️ Understand how a single neuron processes input\n",
    "- ✔️ Learn the role of weights, bias, and activation functions\n",
    "- ✔️ Get hands-on with forward propagation"
   ]
  }
 ],
 "metadata": {
  "kernelspec": {
   "display_name": "Python (deep-learning-env)",
   "language": "python",
   "name": "deep-learning-env"
  },
  "language_info": {
   "codemirror_mode": {
    "name": "ipython",
    "version": 3
   },
   "file_extension": ".py",
   "mimetype": "text/x-python",
   "name": "python",
   "nbconvert_exporter": "python",
   "pygments_lexer": "ipython3",
   "version": "3.10.16"
  }
 },
 "nbformat": 4,
 "nbformat_minor": 2
}
