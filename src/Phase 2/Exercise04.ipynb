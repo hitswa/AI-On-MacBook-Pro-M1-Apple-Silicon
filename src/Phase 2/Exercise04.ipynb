{
 "cells": [
  {
   "cell_type": "markdown",
   "metadata": {},
   "source": [
    "# 🔹 Phase 4: Training on Real Data\n",
    "\n",
    "## 🎯 Concepts Covered\n",
    "\n",
    "- **Loading & Preprocessing Data** (Normalization, One-Hot Encoding)\n",
    "- **Loss Functions & Optimizers** (Categorical Cross-Entropy, Adam)\n",
    "- **Model Training & Evaluation**\n",
    "- **Visualizing Predictions**"
   ]
  },
  {
   "cell_type": "markdown",
   "metadata": {},
   "source": [
    "# 📝 Exercise 04: Train a Neural Network on MNIST\n",
    "\n",
    "## ✅ Task\n",
    "\n",
    "- Build a **fully connected neural network (MLP)** to classify MNIST digits (0-9).\n",
    "- Use **TensorFlow/Keras**.\n",
    "- Train the model and evaluate its accuracy.\n",
    "- Visualize some **predictions**."
   ]
  },
  {
   "cell_type": "markdown",
   "metadata": {},
   "source": [
    "## ✅ Step 1: Verify GPU Availability\n",
    "\n",
    "Run this first to confirm TensorFlow detects the Metal GPU:"
   ]
  },
  {
   "cell_type": "code",
   "execution_count": 1,
   "metadata": {},
   "outputs": [
    {
     "name": "stdout",
     "output_type": "stream",
     "text": [
      "TensorFlow Version: 2.16.2\n",
      "Num GPUs Available: 1\n",
      "Num CPUs Available: 1\n",
      "Num TPUs Available: 0\n",
      "Num XLA Enabled GPUs Available: 0\n",
      "Num XLA Enabled TPUs Available: 0\n",
      "Num XLA Enabled CPUs Available: 0\n",
      "Num XLA Enabled Devices Available: 0\n"
     ]
    }
   ],
   "source": [
    "import tensorflow as tf\n",
    "\n",
    "# Print the TensorFlow version to verify the installation\n",
    "print(\"TensorFlow Version:\", tf.__version__)\n",
    "\n",
    "# Check and print the number of available GPUs\n",
    "print(\"Num GPUs Available:\", len(tf.config.list_physical_devices('GPU')))\n",
    "\n",
    "# Check and print the number of available CPUs\n",
    "print(\"Num CPUs Available:\", len(tf.config.list_physical_devices('CPU')))\n",
    "\n",
    "# Check and print the number of available TPUs (if any)\n",
    "print(\"Num TPUs Available:\", len(tf.config.list_physical_devices('TPU')))\n",
    "\n",
    "# Check and print the number of XLA (Accelerated Linear Algebra) enabled GPUs\n",
    "print(\"Num XLA Enabled GPUs Available:\", len(tf.config.list_physical_devices('XLA_GPU')))\n",
    "\n",
    "# Check and print the number of XLA enabled TPUs (if available)\n",
    "print(\"Num XLA Enabled TPUs Available:\", len(tf.config.list_physical_devices('XLA_TPU')))\n",
    "\n",
    "# Check and print the number of XLA enabled CPUs\n",
    "print(\"Num XLA Enabled CPUs Available:\", len(tf.config.list_physical_devices('XLA_CPU')))\n",
    "\n",
    "# Check and print the total number of XLA-enabled devices (including CPU, GPU, TPU)\n",
    "print(\"Num XLA Enabled Devices Available:\", len(tf.config.list_physical_devices('XLA')))\n"
   ]
  },
  {
   "cell_type": "markdown",
   "metadata": {},
   "source": [
    "## ✅ Step 2: Enable Mixed Precision for Speed Boost\n",
    "\n",
    "Apple’s Metal backend runs better with float16, so enable mixed precision:"
   ]
  },
  {
   "cell_type": "code",
   "execution_count": 3,
   "metadata": {},
   "outputs": [
    {
     "name": "stdout",
     "output_type": "stream",
     "text": [
      "Mixed Precision Enabled!\n"
     ]
    }
   ],
   "source": [
    "from tensorflow.keras.mixed_precision import set_global_policy\n",
    "\n",
    "# Enable mixed precision training, which uses float16 computations where possible \n",
    "# to improve performance on GPUs with Tensor Cores (like NVIDIA RTX and A100 series)\n",
    "set_global_policy('mixed_float16')\n",
    "\n",
    "# Print confirmation message\n",
    "print(\"Mixed Precision Enabled!\")\n"
   ]
  },
  {
   "cell_type": "markdown",
   "metadata": {},
   "source": [
    "## ✅ Step 3: Load and Preprocess the MNIST Dataset\n",
    "\n",
    "Now, let’s train on MNIST, a common dataset for handwritten digit classification."
   ]
  },
  {
   "cell_type": "code",
   "execution_count": 4,
   "metadata": {},
   "outputs": [
    {
     "name": "stdout",
     "output_type": "stream",
     "text": [
      "Training Data Shape: (60000, 28, 28, 1), Labels Shape: (60000, 10)\n",
      "Testing Data Shape: (10000, 28, 28, 1), Labels Shape: (10000, 10)\n"
     ]
    }
   ],
   "source": [
    "import tensorflow as tf\n",
    "import numpy as np\n",
    "import matplotlib.pyplot as plt\n",
    "\n",
    "# Load the MNIST dataset (handwritten digits 0-9)\n",
    "(X_train, y_train), (X_test, y_test) = tf.keras.datasets.mnist.load_data()\n",
    "\n",
    "# Normalize the image pixel values to the range [0, 1] (original range: 0-255)\n",
    "X_train, X_test = X_train / 255.0, X_test / 255.0\n",
    "\n",
    "# Reshape the data to fit CNN input format (batch_size, height, width, channels)\n",
    "# Adding a single channel since MNIST images are grayscale\n",
    "X_train = X_train.reshape(-1, 28, 28, 1).astype(\"float32\")\n",
    "X_test = X_test.reshape(-1, 28, 28, 1).astype(\"float32\")\n",
    "\n",
    "# Convert labels to one-hot encoding (categorical format) for classification\n",
    "y_train = tf.keras.utils.to_categorical(y_train, num_classes=10)\n",
    "y_test = tf.keras.utils.to_categorical(y_test, num_classes=10)\n",
    "\n",
    "# Print dataset shapes to verify correct processing\n",
    "print(f\"Training Data Shape: {X_train.shape}, Labels Shape: {y_train.shape}\")\n",
    "print(f\"Testing Data Shape: {X_test.shape}, Labels Shape: {y_test.shape}\")\n"
   ]
  },
  {
   "cell_type": "markdown",
   "metadata": {},
   "source": [
    "## ✅ Step 4: Define an Optimized Neural Network\n",
    "\n",
    "Now, let’s define a **Convolutional Neural Network (CNN)** using **Metal acceleration**:"
   ]
  },
  {
   "cell_type": "code",
   "execution_count": 5,
   "metadata": {},
   "outputs": [
    {
     "name": "stderr",
     "output_type": "stream",
     "text": [
      "2025-03-15 19:46:44.622508: I metal_plugin/src/device/metal_device.cc:1154] Metal device set to: Apple M1 Pro\n",
      "2025-03-15 19:46:44.622542: I metal_plugin/src/device/metal_device.cc:296] systemMemory: 16.00 GB\n",
      "2025-03-15 19:46:44.622556: I metal_plugin/src/device/metal_device.cc:313] maxCacheSize: 5.33 GB\n",
      "2025-03-15 19:46:44.622582: I tensorflow/core/common_runtime/pluggable_device/pluggable_device_factory.cc:305] Could not identify NUMA node of platform GPU ID 0, defaulting to 0. Your kernel may not have been built with NUMA support.\n",
      "2025-03-15 19:46:44.622595: I tensorflow/core/common_runtime/pluggable_device/pluggable_device_factory.cc:271] Created TensorFlow device (/job:localhost/replica:0/task:0/device:GPU:0 with 0 MB memory) -> physical PluggableDevice (device: 0, name: METAL, pci bus id: <undefined>)\n"
     ]
    },
    {
     "data": {
      "text/html": [
       "<pre style=\"white-space:pre;overflow-x:auto;line-height:normal;font-family:Menlo,'DejaVu Sans Mono',consolas,'Courier New',monospace\"><span style=\"font-weight: bold\">Model: \"sequential\"</span>\n",
       "</pre>\n"
      ],
      "text/plain": [
       "\u001b[1mModel: \"sequential\"\u001b[0m\n"
      ]
     },
     "metadata": {},
     "output_type": "display_data"
    },
    {
     "data": {
      "text/html": [
       "<pre style=\"white-space:pre;overflow-x:auto;line-height:normal;font-family:Menlo,'DejaVu Sans Mono',consolas,'Courier New',monospace\">┏━━━━━━━━━━━━━━━━━━━━━━━━━━━━━━━━━┳━━━━━━━━━━━━━━━━━━━━━━━━┳━━━━━━━━━━━━━━━┓\n",
       "┃<span style=\"font-weight: bold\"> Layer (type)                    </span>┃<span style=\"font-weight: bold\"> Output Shape           </span>┃<span style=\"font-weight: bold\">       Param # </span>┃\n",
       "┡━━━━━━━━━━━━━━━━━━━━━━━━━━━━━━━━━╇━━━━━━━━━━━━━━━━━━━━━━━━╇━━━━━━━━━━━━━━━┩\n",
       "│ conv2d (<span style=\"color: #0087ff; text-decoration-color: #0087ff\">Conv2D</span>)                 │ (<span style=\"color: #00d7ff; text-decoration-color: #00d7ff\">None</span>, <span style=\"color: #00af00; text-decoration-color: #00af00\">26</span>, <span style=\"color: #00af00; text-decoration-color: #00af00\">26</span>, <span style=\"color: #00af00; text-decoration-color: #00af00\">32</span>)     │           <span style=\"color: #00af00; text-decoration-color: #00af00\">320</span> │\n",
       "├─────────────────────────────────┼────────────────────────┼───────────────┤\n",
       "│ max_pooling2d (<span style=\"color: #0087ff; text-decoration-color: #0087ff\">MaxPooling2D</span>)    │ (<span style=\"color: #00d7ff; text-decoration-color: #00d7ff\">None</span>, <span style=\"color: #00af00; text-decoration-color: #00af00\">13</span>, <span style=\"color: #00af00; text-decoration-color: #00af00\">13</span>, <span style=\"color: #00af00; text-decoration-color: #00af00\">32</span>)     │             <span style=\"color: #00af00; text-decoration-color: #00af00\">0</span> │\n",
       "├─────────────────────────────────┼────────────────────────┼───────────────┤\n",
       "│ conv2d_1 (<span style=\"color: #0087ff; text-decoration-color: #0087ff\">Conv2D</span>)               │ (<span style=\"color: #00d7ff; text-decoration-color: #00d7ff\">None</span>, <span style=\"color: #00af00; text-decoration-color: #00af00\">11</span>, <span style=\"color: #00af00; text-decoration-color: #00af00\">11</span>, <span style=\"color: #00af00; text-decoration-color: #00af00\">64</span>)     │        <span style=\"color: #00af00; text-decoration-color: #00af00\">18,496</span> │\n",
       "├─────────────────────────────────┼────────────────────────┼───────────────┤\n",
       "│ max_pooling2d_1 (<span style=\"color: #0087ff; text-decoration-color: #0087ff\">MaxPooling2D</span>)  │ (<span style=\"color: #00d7ff; text-decoration-color: #00d7ff\">None</span>, <span style=\"color: #00af00; text-decoration-color: #00af00\">5</span>, <span style=\"color: #00af00; text-decoration-color: #00af00\">5</span>, <span style=\"color: #00af00; text-decoration-color: #00af00\">64</span>)       │             <span style=\"color: #00af00; text-decoration-color: #00af00\">0</span> │\n",
       "├─────────────────────────────────┼────────────────────────┼───────────────┤\n",
       "│ flatten (<span style=\"color: #0087ff; text-decoration-color: #0087ff\">Flatten</span>)               │ (<span style=\"color: #00d7ff; text-decoration-color: #00d7ff\">None</span>, <span style=\"color: #00af00; text-decoration-color: #00af00\">1600</span>)           │             <span style=\"color: #00af00; text-decoration-color: #00af00\">0</span> │\n",
       "├─────────────────────────────────┼────────────────────────┼───────────────┤\n",
       "│ dense (<span style=\"color: #0087ff; text-decoration-color: #0087ff\">Dense</span>)                   │ (<span style=\"color: #00d7ff; text-decoration-color: #00d7ff\">None</span>, <span style=\"color: #00af00; text-decoration-color: #00af00\">128</span>)            │       <span style=\"color: #00af00; text-decoration-color: #00af00\">204,928</span> │\n",
       "├─────────────────────────────────┼────────────────────────┼───────────────┤\n",
       "│ dropout (<span style=\"color: #0087ff; text-decoration-color: #0087ff\">Dropout</span>)               │ (<span style=\"color: #00d7ff; text-decoration-color: #00d7ff\">None</span>, <span style=\"color: #00af00; text-decoration-color: #00af00\">128</span>)            │             <span style=\"color: #00af00; text-decoration-color: #00af00\">0</span> │\n",
       "├─────────────────────────────────┼────────────────────────┼───────────────┤\n",
       "│ dense_1 (<span style=\"color: #0087ff; text-decoration-color: #0087ff\">Dense</span>)                 │ (<span style=\"color: #00d7ff; text-decoration-color: #00d7ff\">None</span>, <span style=\"color: #00af00; text-decoration-color: #00af00\">10</span>)             │         <span style=\"color: #00af00; text-decoration-color: #00af00\">1,290</span> │\n",
       "└─────────────────────────────────┴────────────────────────┴───────────────┘\n",
       "</pre>\n"
      ],
      "text/plain": [
       "┏━━━━━━━━━━━━━━━━━━━━━━━━━━━━━━━━━┳━━━━━━━━━━━━━━━━━━━━━━━━┳━━━━━━━━━━━━━━━┓\n",
       "┃\u001b[1m \u001b[0m\u001b[1mLayer (type)                   \u001b[0m\u001b[1m \u001b[0m┃\u001b[1m \u001b[0m\u001b[1mOutput Shape          \u001b[0m\u001b[1m \u001b[0m┃\u001b[1m \u001b[0m\u001b[1m      Param #\u001b[0m\u001b[1m \u001b[0m┃\n",
       "┡━━━━━━━━━━━━━━━━━━━━━━━━━━━━━━━━━╇━━━━━━━━━━━━━━━━━━━━━━━━╇━━━━━━━━━━━━━━━┩\n",
       "│ conv2d (\u001b[38;5;33mConv2D\u001b[0m)                 │ (\u001b[38;5;45mNone\u001b[0m, \u001b[38;5;34m26\u001b[0m, \u001b[38;5;34m26\u001b[0m, \u001b[38;5;34m32\u001b[0m)     │           \u001b[38;5;34m320\u001b[0m │\n",
       "├─────────────────────────────────┼────────────────────────┼───────────────┤\n",
       "│ max_pooling2d (\u001b[38;5;33mMaxPooling2D\u001b[0m)    │ (\u001b[38;5;45mNone\u001b[0m, \u001b[38;5;34m13\u001b[0m, \u001b[38;5;34m13\u001b[0m, \u001b[38;5;34m32\u001b[0m)     │             \u001b[38;5;34m0\u001b[0m │\n",
       "├─────────────────────────────────┼────────────────────────┼───────────────┤\n",
       "│ conv2d_1 (\u001b[38;5;33mConv2D\u001b[0m)               │ (\u001b[38;5;45mNone\u001b[0m, \u001b[38;5;34m11\u001b[0m, \u001b[38;5;34m11\u001b[0m, \u001b[38;5;34m64\u001b[0m)     │        \u001b[38;5;34m18,496\u001b[0m │\n",
       "├─────────────────────────────────┼────────────────────────┼───────────────┤\n",
       "│ max_pooling2d_1 (\u001b[38;5;33mMaxPooling2D\u001b[0m)  │ (\u001b[38;5;45mNone\u001b[0m, \u001b[38;5;34m5\u001b[0m, \u001b[38;5;34m5\u001b[0m, \u001b[38;5;34m64\u001b[0m)       │             \u001b[38;5;34m0\u001b[0m │\n",
       "├─────────────────────────────────┼────────────────────────┼───────────────┤\n",
       "│ flatten (\u001b[38;5;33mFlatten\u001b[0m)               │ (\u001b[38;5;45mNone\u001b[0m, \u001b[38;5;34m1600\u001b[0m)           │             \u001b[38;5;34m0\u001b[0m │\n",
       "├─────────────────────────────────┼────────────────────────┼───────────────┤\n",
       "│ dense (\u001b[38;5;33mDense\u001b[0m)                   │ (\u001b[38;5;45mNone\u001b[0m, \u001b[38;5;34m128\u001b[0m)            │       \u001b[38;5;34m204,928\u001b[0m │\n",
       "├─────────────────────────────────┼────────────────────────┼───────────────┤\n",
       "│ dropout (\u001b[38;5;33mDropout\u001b[0m)               │ (\u001b[38;5;45mNone\u001b[0m, \u001b[38;5;34m128\u001b[0m)            │             \u001b[38;5;34m0\u001b[0m │\n",
       "├─────────────────────────────────┼────────────────────────┼───────────────┤\n",
       "│ dense_1 (\u001b[38;5;33mDense\u001b[0m)                 │ (\u001b[38;5;45mNone\u001b[0m, \u001b[38;5;34m10\u001b[0m)             │         \u001b[38;5;34m1,290\u001b[0m │\n",
       "└─────────────────────────────────┴────────────────────────┴───────────────┘\n"
      ]
     },
     "metadata": {},
     "output_type": "display_data"
    },
    {
     "data": {
      "text/html": [
       "<pre style=\"white-space:pre;overflow-x:auto;line-height:normal;font-family:Menlo,'DejaVu Sans Mono',consolas,'Courier New',monospace\"><span style=\"font-weight: bold\"> Total params: </span><span style=\"color: #00af00; text-decoration-color: #00af00\">225,034</span> (879.04 KB)\n",
       "</pre>\n"
      ],
      "text/plain": [
       "\u001b[1m Total params: \u001b[0m\u001b[38;5;34m225,034\u001b[0m (879.04 KB)\n"
      ]
     },
     "metadata": {},
     "output_type": "display_data"
    },
    {
     "data": {
      "text/html": [
       "<pre style=\"white-space:pre;overflow-x:auto;line-height:normal;font-family:Menlo,'DejaVu Sans Mono',consolas,'Courier New',monospace\"><span style=\"font-weight: bold\"> Trainable params: </span><span style=\"color: #00af00; text-decoration-color: #00af00\">225,034</span> (879.04 KB)\n",
       "</pre>\n"
      ],
      "text/plain": [
       "\u001b[1m Trainable params: \u001b[0m\u001b[38;5;34m225,034\u001b[0m (879.04 KB)\n"
      ]
     },
     "metadata": {},
     "output_type": "display_data"
    },
    {
     "data": {
      "text/html": [
       "<pre style=\"white-space:pre;overflow-x:auto;line-height:normal;font-family:Menlo,'DejaVu Sans Mono',consolas,'Courier New',monospace\"><span style=\"font-weight: bold\"> Non-trainable params: </span><span style=\"color: #00af00; text-decoration-color: #00af00\">0</span> (0.00 B)\n",
       "</pre>\n"
      ],
      "text/plain": [
       "\u001b[1m Non-trainable params: \u001b[0m\u001b[38;5;34m0\u001b[0m (0.00 B)\n"
      ]
     },
     "metadata": {},
     "output_type": "display_data"
    }
   ],
   "source": [
    "from tensorflow.keras.models import Sequential\n",
    "from tensorflow.keras.layers import Conv2D, MaxPooling2D, Flatten, Dense, Dropout\n",
    "\n",
    "# Define the Convolutional Neural Network (CNN) model\n",
    "model = Sequential([\n",
    "    tf.keras.layers.Input(shape=(28, 28, 1)),  # Explicit input layer for 28x28 grayscale images\n",
    "\n",
    "    # First convolutional layer: 32 filters, 3x3 kernel, ReLU activation\n",
    "    Conv2D(32, kernel_size=(3, 3), activation='relu'),\n",
    "\n",
    "    # First max-pooling layer: 2x2 pooling size (reduces spatial dimensions)\n",
    "    MaxPooling2D(pool_size=(2, 2)),\n",
    "\n",
    "    # Second convolutional layer: 64 filters, 3x3 kernel, ReLU activation\n",
    "    Conv2D(64, kernel_size=(3, 3), activation='relu'),\n",
    "\n",
    "    # Second max-pooling layer: 2x2 pooling size\n",
    "    MaxPooling2D(pool_size=(2, 2)),\n",
    "\n",
    "    # Flatten the feature maps into a 1D vector for fully connected layers\n",
    "    Flatten(),\n",
    "\n",
    "    # Fully connected dense layer with 128 neurons and ReLU activation\n",
    "    Dense(128, activation='relu'),\n",
    "\n",
    "    # Dropout layer (50% neurons randomly dropped during training to reduce overfitting)\n",
    "    Dropout(0.5),\n",
    "\n",
    "    # Output layer: 10 neurons (one for each digit 0-9) with softmax activation\n",
    "    Dense(10, activation='softmax', dtype='float32')  # dtype='float32' for numerical stability\n",
    "])\n",
    "\n",
    "# Compile the model with Adam optimizer, categorical cross-entropy loss, and accuracy metric\n",
    "model.compile(optimizer=\"adam\", loss=\"categorical_crossentropy\", metrics=[\"accuracy\"])\n",
    "\n",
    "# Print a summary of the model architecture\n",
    "model.summary()\n"
   ]
  },
  {
   "cell_type": "markdown",
   "metadata": {},
   "source": [
    "## ✅ Step 5: Optimize Training with `@tf.function`\n",
    "\n",
    "For better performance, wrap the training step in `@tf.function`:"
   ]
  },
  {
   "cell_type": "code",
   "execution_count": 6,
   "metadata": {},
   "outputs": [],
   "source": [
    "@tf.function  # Converts function into a TensorFlow graph for optimized execution\n",
    "def train_step(X, y):\n",
    "    \"\"\"\n",
    "    Performs a single training step (one batch) on the model.\n",
    "\n",
    "    Args:\n",
    "    X (tensor): Input batch of training data.\n",
    "    y (tensor): Corresponding batch of labels.\n",
    "\n",
    "    Returns:\n",
    "    Loss and accuracy of the model on the given batch.\n",
    "    \"\"\"\n",
    "    return model.train_on_batch(X, y)  # Train the model on one batch of data\n"
   ]
  },
  {
   "cell_type": "markdown",
   "metadata": {},
   "source": [
    "## ✅ Step 6: Train the Model\n",
    "\n",
    "Use a **larger batch size** to utilize the **M1 Pro GPU** fully."
   ]
  },
  {
   "cell_type": "code",
   "execution_count": 7,
   "metadata": {},
   "outputs": [
    {
     "name": "stdout",
     "output_type": "stream",
     "text": [
      "Epoch 1/10\n"
     ]
    },
    {
     "name": "stderr",
     "output_type": "stream",
     "text": [
      "2025-03-15 19:47:06.001567: I tensorflow/core/grappler/optimizers/custom_graph_optimizer_registry.cc:117] Plugin optimizer for device_type GPU is enabled.\n"
     ]
    },
    {
     "name": "stdout",
     "output_type": "stream",
     "text": [
      "\u001b[1m938/938\u001b[0m \u001b[32m━━━━━━━━━━━━━━━━━━━━\u001b[0m\u001b[37m\u001b[0m \u001b[1m31s\u001b[0m 27ms/step - accuracy: 0.8029 - loss: 0.6209 - val_accuracy: 0.9767 - val_loss: 0.0838\n",
      "Epoch 2/10\n",
      "\u001b[1m938/938\u001b[0m \u001b[32m━━━━━━━━━━━━━━━━━━━━\u001b[0m\u001b[37m\u001b[0m \u001b[1m25s\u001b[0m 26ms/step - accuracy: 0.9625 - loss: 0.1470 - val_accuracy: 0.9839 - val_loss: 0.0594\n",
      "Epoch 3/10\n",
      "\u001b[1m938/938\u001b[0m \u001b[32m━━━━━━━━━━━━━━━━━━━━\u001b[0m\u001b[37m\u001b[0m \u001b[1m25s\u001b[0m 26ms/step - accuracy: 0.9700 - loss: 0.1172 - val_accuracy: 0.9843 - val_loss: 0.0601\n",
      "Epoch 4/10\n",
      "\u001b[1m938/938\u001b[0m \u001b[32m━━━━━━━━━━━━━━━━━━━━\u001b[0m\u001b[37m\u001b[0m \u001b[1m24s\u001b[0m 26ms/step - accuracy: 0.9752 - loss: 0.1004 - val_accuracy: 0.9893 - val_loss: 0.0422\n",
      "Epoch 5/10\n",
      "\u001b[1m938/938\u001b[0m \u001b[32m━━━━━━━━━━━━━━━━━━━━\u001b[0m\u001b[37m\u001b[0m \u001b[1m25s\u001b[0m 26ms/step - accuracy: 0.9768 - loss: 0.0980 - val_accuracy: 0.9871 - val_loss: 0.0542\n",
      "Epoch 6/10\n",
      "\u001b[1m938/938\u001b[0m \u001b[32m━━━━━━━━━━━━━━━━━━━━\u001b[0m\u001b[37m\u001b[0m \u001b[1m25s\u001b[0m 26ms/step - accuracy: 0.9758 - loss: 0.1138 - val_accuracy: 0.9897 - val_loss: 0.0522\n",
      "Epoch 7/10\n",
      "\u001b[1m938/938\u001b[0m \u001b[32m━━━━━━━━━━━━━━━━━━━━\u001b[0m\u001b[37m\u001b[0m \u001b[1m25s\u001b[0m 26ms/step - accuracy: 0.9777 - loss: 0.1356 - val_accuracy: 0.9884 - val_loss: 0.0627\n",
      "Epoch 8/10\n",
      "\u001b[1m938/938\u001b[0m \u001b[32m━━━━━━━━━━━━━━━━━━━━\u001b[0m\u001b[37m\u001b[0m \u001b[1m25s\u001b[0m 26ms/step - accuracy: 0.9766 - loss: 0.1517 - val_accuracy: 0.9861 - val_loss: 0.0879\n",
      "Epoch 9/10\n",
      "\u001b[1m938/938\u001b[0m \u001b[32m━━━━━━━━━━━━━━━━━━━━\u001b[0m\u001b[37m\u001b[0m \u001b[1m25s\u001b[0m 26ms/step - accuracy: 0.9792 - loss: 0.1489 - val_accuracy: 0.9880 - val_loss: 0.0995\n",
      "Epoch 10/10\n",
      "\u001b[1m938/938\u001b[0m \u001b[32m━━━━━━━━━━━━━━━━━━━━\u001b[0m\u001b[37m\u001b[0m \u001b[1m25s\u001b[0m 27ms/step - accuracy: 0.9790 - loss: 0.1766 - val_accuracy: 0.9882 - val_loss: 0.1134\n"
     ]
    }
   ],
   "source": [
    "# Train the Model\n",
    "history = model.fit(\n",
    "    X_train, y_train,  # Training data and corresponding labels\n",
    "    batch_size=64,  # Number of samples per batch (optimized for performance)\n",
    "    epochs=10,  # Train for 10 iterations over the entire dataset\n",
    "    validation_data=(X_test, y_test)  # Evaluate performance on the test set after each epoch\n",
    ")\n"
   ]
  },
  {
   "cell_type": "markdown",
   "metadata": {},
   "source": [
    "## ✅ Step 7: Evaluate and Visualize Results"
   ]
  },
  {
   "cell_type": "code",
   "execution_count": 8,
   "metadata": {},
   "outputs": [
    {
     "name": "stdout",
     "output_type": "stream",
     "text": [
      "313/313 - 4s - 12ms/step - accuracy: 0.9882 - loss: 0.1134\n",
      "Test Accuracy: 0.9882\n"
     ]
    },
    {
     "data": {
      "image/png": "[encoded data removed]",
      "text/plain": [
       "<Figure size 640x480 with 1 Axes>"
      ]
     },
     "metadata": {},
     "output_type": "display_data"
    }
   ],
   "source": [
    "# Evaluate the model on the test dataset\n",
    "test_loss, test_acc = model.evaluate(X_test, y_test, verbose=2)  \n",
    "print(f\"Test Accuracy: {test_acc:.4f}\")  # Print the final test accuracy\n",
    "\n",
    "# Plot training history to visualize accuracy trends\n",
    "plt.plot(history.history['accuracy'], label='Train Accuracy')  # Training accuracy over epochs\n",
    "plt.plot(history.history['val_accuracy'], label='Validation Accuracy')  # Validation accuracy over epochs\n",
    "plt.xlabel('Epochs')  # Label for x-axis\n",
    "plt.ylabel('Accuracy')  # Label for y-axis\n",
    "plt.legend()  # Show legend for train/validation accuracy\n",
    "plt.title(\"Model Accuracy Over Epochs\")  # Title of the plot\n",
    "plt.show()  # Display the accuracy plot\n"
   ]
  },
  {
   "cell_type": "markdown",
   "metadata": {},
   "source": [
    "## ✅ Optimizations Applied\n",
    "\n",
    "1. **GPU Verification** (tf.config.list_physical_devices('GPU')).\n",
    "2. **Mixed Precision** (set_global_policy('mixed_float16')).\n",
    "3. **Efficient Data Preprocessing** (Normalizing + Reshaping).\n",
    "4. **Optimized CNN Architecture** with Dropout for generalization.\n",
    "5. **Larger Batch Size** (batch_size=64).\n",
    "6. **`@tf.function` Training Step** (train_step for speedup).\n",
    "\n",
    "This should now fully utilize the Apple M1 Pro’s Metal GPU backend for faster training! 🚀"
   ]
  },
  {
   "cell_type": "markdown",
   "metadata": {},
   "source": [
    "## 🎯 Assignment 04\n",
    "\n",
    "Now that you have trained the model, try the following:\n",
    "\n",
    "- **Reduce the number of neurons in hidden layers** (e.g., 64 → 32).\n",
    "- **Increase the epochs to 20** and observe if accuracy improves.\n",
    "- **Try different activation functions** like `tanh` instead of `relu`."
   ]
  }
 ],
 "metadata": {
  "kernelspec": {
   "display_name": "Python (deep-learning-env)",
   "language": "python",
   "name": "deep-learning-env"
  },
  "language_info": {
   "codemirror_mode": {
    "name": "ipython",
    "version": 3
   },
   "file_extension": ".py",
   "mimetype": "text/x-python",
   "name": "python",
   "nbconvert_exporter": "python",
   "pygments_lexer": "ipython3",
   "version": "3.10.16"
  }
 },
 "nbformat": 4,
 "nbformat_minor": 2
}
