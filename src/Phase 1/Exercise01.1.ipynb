{
 "cells": [
  {
   "cell_type": "markdown",
   "metadata": {},
   "source": [
    "# 🔹 Exercise 1: Implement a Single Neuron in Python (Without TensorFlow or PyTorch)\n",
    "\n",
    "We will implement a single artificial neuron using only NumPy. This will help you understand key concepts like weights, bias, activation functions, and forward propagation.\n",
    "\n",
    "## 📌 Steps:\n",
    "\n",
    "- Initialize Weights & Bias\n",
    "    - Randomly initialize a weight (`w`) and bias (`b`).\n",
    "- Define Activation Function\n",
    "    - Use Sigmoid activation function:\n",
    "        𝜎(x) = 1 / (1 + e^-x)\n",
    "- Forward Propagation\n",
    "    - Compute output:\n",
    "        𝑦 = 𝜎( 𝑤 ⋅ 𝑥 + 𝑏 )\n",
    "- Test the Neuron\n",
    "    - Run the neuron on some sample input data."
   ]
  },
  {
   "cell_type": "code",
   "execution_count": 1,
   "metadata": {},
   "outputs": [
    {
     "name": "stdout",
     "output_type": "stream",
     "text": [
      "Neuron Output: [0.71438861]\n"
     ]
    }
   ],
   "source": [
    "import numpy as np\n",
    "\n",
    "class Neuron:\n",
    "    def __init__(self, input_size):\n",
    "        \"\"\"\n",
    "        Initializes the neuron with random weights and bias.\n",
    "        \n",
    "        Parameters:\n",
    "        input_size (int): Number of input features.\n",
    "        \"\"\"\n",
    "        self.weights = np.random.randn(input_size)  # Initialize weights randomly\n",
    "        self.bias = np.random.randn(1)  # Initialize bias randomly\n",
    "    \n",
    "    def sigmoid(self, x):\n",
    "        \"\"\"\n",
    "        Applies the sigmoid activation function.\n",
    "        \n",
    "        Parameters:\n",
    "        x (float or ndarray): The input value or array.\n",
    "        \n",
    "        Returns:\n",
    "        float or ndarray: The sigmoid output.\n",
    "        \"\"\"\n",
    "        return 1 / (1 + np.exp(-x))  # Sigmoid function formula\n",
    "\n",
    "    def forward(self, inputs):\n",
    "        \"\"\"\n",
    "        Performs the forward pass of the neuron.\n",
    "        \n",
    "        Parameters:\n",
    "        inputs (ndarray): Input vector of shape (input_size,).\n",
    "        \n",
    "        Returns:\n",
    "        float: Output after applying the sigmoid activation.\n",
    "        \"\"\"\n",
    "        weighted_sum = np.dot(self.weights, inputs) + self.bias  # Compute weighted sum\n",
    "        return self.sigmoid(weighted_sum)  # Apply activation function\n",
    "\n",
    "# Example usage\n",
    "inputs = np.array([0.5, -0.2, 0.1])  # Example input vector\n",
    "neuron = Neuron(input_size=3)  # Create a neuron with 3 inputs\n",
    "output = neuron.forward(inputs)  # Perform forward pass\n",
    "print(\"Neuron Output:\", output)  # Print the output of the neuron\n"
   ]
  },
  {
   "cell_type": "markdown",
   "metadata": {},
   "source": [
    "OR"
   ]
  },
  {
   "cell_type": "code",
   "execution_count": 2,
   "metadata": {},
   "outputs": [
    {
     "name": "stdout",
     "output_type": "stream",
     "text": [
      "Neuron Outputs: [0.28975652690965437, 0.4193230868961184, 0.5610590391043937, 0.6934876200361713, 0.8001911159268437]\n"
     ]
    }
   ],
   "source": [
    "import numpy as np\n",
    "\n",
    "# Step 1: Initialize weights and bias\n",
    "w = np.random.randn()  # Randomly initialize the weight\n",
    "b = np.random.randn()  # Randomly initialize the bias\n",
    "\n",
    "# Step 2: Define the Sigmoid activation function\n",
    "def sigmoid(x):\n",
    "    \"\"\"\n",
    "    Computes the sigmoid activation function.\n",
    "    \n",
    "    Parameters:\n",
    "    x (float): The input value.\n",
    "    \n",
    "    Returns:\n",
    "    float: The sigmoid output, ranging from 0 to 1.\n",
    "    \"\"\"\n",
    "    return 1 / (1 + np.exp(-x))  # Sigmoid function formula\n",
    "\n",
    "# Step 3: Define forward propagation function\n",
    "def neuron(x):\n",
    "    \"\"\"\n",
    "    Computes the output of a single neuron.\n",
    "    \n",
    "    Parameters:\n",
    "    x (float): The input value.\n",
    "    \n",
    "    Returns:\n",
    "    float: The activated output of the neuron.\n",
    "    \"\"\"\n",
    "    z = w * x + b  # Compute the weighted sum (linear transformation)\n",
    "    return sigmoid(z)  # Apply the sigmoid activation function\n",
    "\n",
    "# Step 4: Test the neuron with different input values\n",
    "x_values = np.array([-2, -1, 0, 1, 2])  # Sample inputs ranging from -2 to 2\n",
    "output = [neuron(x) for x in x_values]  # Compute neuron outputs for each input\n",
    "\n",
    "# Print the output values\n",
    "print(\"Neuron Outputs:\", output)  \n"
   ]
  },
  {
   "cell_type": "markdown",
   "metadata": {},
   "source": [
    "## ✅ Expected Learning Outcomes\n",
    "\n",
    "- ✔️ Understand how a single neuron processes input\n",
    "- ✔️ Learn the role of weights, bias, and activation functions\n",
    "- ✔️ Get hands-on with forward propagation"
   ]
  }
 ],
 "metadata": {
  "kernelspec": {
   "display_name": "Python (deep-learning-env)",
   "language": "python",
   "name": "deep-learning-env"
  },
  "language_info": {
   "codemirror_mode": {
    "name": "ipython",
    "version": 3
   },
   "file_extension": ".py",
   "mimetype": "text/x-python",
   "name": "python",
   "nbconvert_exporter": "python",
   "pygments_lexer": "ipython3",
   "version": "3.10.16"
  }
 },
 "nbformat": 4,
 "nbformat_minor": 2
}
